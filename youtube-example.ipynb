{
 "cells": [
  {
   "cell_type": "code",
   "execution_count": 1,
   "metadata": {},
   "outputs": [
    {
     "name": "stdout",
     "output_type": "stream",
     "text": [
      "Collecting google-api-python-clientNote: you may need to restart the kernel to use updated packages.\n",
      "\n",
      "  Using cached google_api_python_client-2.111.0-py2.py3-none-any.whl.metadata (6.6 kB)\n",
      "Collecting httplib2<1.dev0,>=0.15.0 (from google-api-python-client)\n",
      "  Using cached httplib2-0.22.0-py3-none-any.whl (96 kB)\n",
      "Collecting google-auth<3.0.0.dev0,>=1.19.0 (from google-api-python-client)\n",
      "  Using cached google_auth-2.25.2-py2.py3-none-any.whl.metadata (4.7 kB)\n",
      "Collecting google-auth-httplib2>=0.1.0 (from google-api-python-client)\n",
      "  Using cached google_auth_httplib2-0.2.0-py2.py3-none-any.whl.metadata (2.2 kB)\n",
      "Collecting google-api-core!=2.0.*,!=2.1.*,!=2.2.*,!=2.3.0,<3.0.0.dev0,>=1.31.5 (from google-api-python-client)\n",
      "  Using cached google_api_core-2.15.0-py3-none-any.whl.metadata (2.7 kB)\n",
      "Collecting uritemplate<5,>=3.0.1 (from google-api-python-client)\n",
      "  Using cached uritemplate-4.1.1-py2.py3-none-any.whl (10 kB)\n",
      "Collecting googleapis-common-protos<2.0.dev0,>=1.56.2 (from google-api-core!=2.0.*,!=2.1.*,!=2.2.*,!=2.3.0,<3.0.0.dev0,>=1.31.5->google-api-python-client)\n",
      "  Using cached googleapis_common_protos-1.62.0-py2.py3-none-any.whl.metadata (1.5 kB)\n",
      "Collecting protobuf!=3.20.0,!=3.20.1,!=4.21.0,!=4.21.1,!=4.21.2,!=4.21.3,!=4.21.4,!=4.21.5,<5.0.0.dev0,>=3.19.5 (from google-api-core!=2.0.*,!=2.1.*,!=2.2.*,!=2.3.0,<3.0.0.dev0,>=1.31.5->google-api-python-client)\n",
      "  Using cached protobuf-4.25.1-cp310-abi3-win_amd64.whl.metadata (541 bytes)\n",
      "Collecting requests<3.0.0.dev0,>=2.18.0 (from google-api-core!=2.0.*,!=2.1.*,!=2.2.*,!=2.3.0,<3.0.0.dev0,>=1.31.5->google-api-python-client)\n",
      "  Using cached requests-2.31.0-py3-none-any.whl.metadata (4.6 kB)\n",
      "Collecting cachetools<6.0,>=2.0.0 (from google-auth<3.0.0.dev0,>=1.19.0->google-api-python-client)\n",
      "  Using cached cachetools-5.3.2-py3-none-any.whl.metadata (5.2 kB)\n",
      "Collecting pyasn1-modules>=0.2.1 (from google-auth<3.0.0.dev0,>=1.19.0->google-api-python-client)\n",
      "  Using cached pyasn1_modules-0.3.0-py2.py3-none-any.whl (181 kB)\n",
      "Collecting rsa<5,>=3.1.4 (from google-auth<3.0.0.dev0,>=1.19.0->google-api-python-client)\n",
      "  Using cached rsa-4.9-py3-none-any.whl (34 kB)\n",
      "Collecting pyparsing!=3.0.0,!=3.0.1,!=3.0.2,!=3.0.3,<4,>=2.4.2 (from httplib2<1.dev0,>=0.15.0->google-api-python-client)\n",
      "  Using cached pyparsing-3.1.1-py3-none-any.whl.metadata (5.1 kB)\n",
      "Collecting pyasn1<0.6.0,>=0.4.6 (from pyasn1-modules>=0.2.1->google-auth<3.0.0.dev0,>=1.19.0->google-api-python-client)\n",
      "  Using cached pyasn1-0.5.1-py2.py3-none-any.whl.metadata (8.6 kB)\n",
      "Collecting charset-normalizer<4,>=2 (from requests<3.0.0.dev0,>=2.18.0->google-api-core!=2.0.*,!=2.1.*,!=2.2.*,!=2.3.0,<3.0.0.dev0,>=1.31.5->google-api-python-client)\n",
      "  Using cached charset_normalizer-3.3.2-cp311-cp311-win_amd64.whl.metadata (34 kB)\n",
      "Collecting idna<4,>=2.5 (from requests<3.0.0.dev0,>=2.18.0->google-api-core!=2.0.*,!=2.1.*,!=2.2.*,!=2.3.0,<3.0.0.dev0,>=1.31.5->google-api-python-client)\n",
      "  Using cached idna-3.6-py3-none-any.whl.metadata (9.9 kB)\n",
      "Collecting urllib3<3,>=1.21.1 (from requests<3.0.0.dev0,>=2.18.0->google-api-core!=2.0.*,!=2.1.*,!=2.2.*,!=2.3.0,<3.0.0.dev0,>=1.31.5->google-api-python-client)\n",
      "  Using cached urllib3-2.1.0-py3-none-any.whl.metadata (6.4 kB)\n",
      "Collecting certifi>=2017.4.17 (from requests<3.0.0.dev0,>=2.18.0->google-api-core!=2.0.*,!=2.1.*,!=2.2.*,!=2.3.0,<3.0.0.dev0,>=1.31.5->google-api-python-client)\n",
      "  Using cached certifi-2023.11.17-py3-none-any.whl.metadata (2.2 kB)\n",
      "Using cached google_api_python_client-2.111.0-py2.py3-none-any.whl (13.0 MB)\n",
      "Using cached google_api_core-2.15.0-py3-none-any.whl (121 kB)\n",
      "Using cached google_auth-2.25.2-py2.py3-none-any.whl (184 kB)\n",
      "Using cached google_auth_httplib2-0.2.0-py2.py3-none-any.whl (9.3 kB)\n",
      "Using cached cachetools-5.3.2-py3-none-any.whl (9.3 kB)\n",
      "Using cached googleapis_common_protos-1.62.0-py2.py3-none-any.whl (228 kB)\n",
      "Using cached protobuf-4.25.1-cp310-abi3-win_amd64.whl (413 kB)\n",
      "Using cached pyparsing-3.1.1-py3-none-any.whl (103 kB)\n",
      "Using cached requests-2.31.0-py3-none-any.whl (62 kB)\n",
      "Using cached certifi-2023.11.17-py3-none-any.whl (162 kB)\n",
      "Using cached charset_normalizer-3.3.2-cp311-cp311-win_amd64.whl (99 kB)\n",
      "Using cached idna-3.6-py3-none-any.whl (61 kB)\n",
      "Using cached pyasn1-0.5.1-py2.py3-none-any.whl (84 kB)\n",
      "Using cached urllib3-2.1.0-py3-none-any.whl (104 kB)\n",
      "Installing collected packages: urllib3, uritemplate, pyparsing, pyasn1, protobuf, idna, charset-normalizer, certifi, cachetools, rsa, requests, pyasn1-modules, httplib2, googleapis-common-protos, google-auth, google-auth-httplib2, google-api-core, google-api-python-client\n",
      "Successfully installed cachetools-5.3.2 certifi-2023.11.17 charset-normalizer-3.3.2 google-api-core-2.15.0 google-api-python-client-2.111.0 google-auth-2.25.2 google-auth-httplib2-0.2.0 googleapis-common-protos-1.62.0 httplib2-0.22.0 idna-3.6 protobuf-4.25.1 pyasn1-0.5.1 pyasn1-modules-0.3.0 pyparsing-3.1.1 requests-2.31.0 rsa-4.9 uritemplate-4.1.1 urllib3-2.1.0\n"
     ]
    }
   ],
   "source": [
    "pip install google-api-python-client"
   ]
  },
  {
   "cell_type": "code",
   "execution_count": 2,
   "metadata": {},
   "outputs": [
    {
     "name": "stdout",
     "output_type": "stream",
     "text": [
      "Collecting oauth2client\n",
      "  Downloading oauth2client-4.1.3-py2.py3-none-any.whl (98 kB)\n",
      "     ---------------------------------------- 0.0/98.2 kB ? eta -:--:--\n",
      "     ---- ----------------------------------- 10.2/98.2 kB ? eta -:--:--\n",
      "     ---- ----------------------------------- 10.2/98.2 kB ? eta -:--:--\n",
      "     ---- ----------------------------------- 10.2/98.2 kB ? eta -:--:--\n",
      "     ----------- -------------------------- 30.7/98.2 kB 119.1 kB/s eta 0:00:01\n",
      "     ----------- -------------------------- 30.7/98.2 kB 119.1 kB/s eta 0:00:01\n",
      "     --------------- ---------------------- 41.0/98.2 kB 122.9 kB/s eta 0:00:01\n",
      "     ----------------------- -------------- 61.4/98.2 kB 182.2 kB/s eta 0:00:01\n",
      "     ----------------------------------- -- 92.2/98.2 kB 238.1 kB/s eta 0:00:01\n",
      "     ----------------------------------- -- 92.2/98.2 kB 238.1 kB/s eta 0:00:01\n",
      "     -------------------------------------- 98.2/98.2 kB 208.4 kB/s eta 0:00:00\n",
      "Requirement already satisfied: httplib2>=0.9.1 in .\\.conda\\lib\\site-packages (from oauth2client) (0.22.0)\n",
      "Requirement already satisfied: pyasn1>=0.1.7 in .\\.conda\\lib\\site-packages (from oauth2client) (0.5.1)\n",
      "Requirement already satisfied: pyasn1-modules>=0.0.5 in .\\.conda\\lib\\site-packages (from oauth2client) (0.3.0)\n",
      "Requirement already satisfied: rsa>=3.1.4 in .\\.conda\\lib\\site-packages (from oauth2client) (4.9)\n",
      "Requirement already satisfied: six>=1.6.1 in .\\.conda\\lib\\site-packages (from oauth2client) (1.16.0)\n",
      "Requirement already satisfied: pyparsing!=3.0.0,!=3.0.1,!=3.0.2,!=3.0.3,<4,>=2.4.2 in .\\.conda\\lib\\site-packages (from httplib2>=0.9.1->oauth2client) (3.1.1)\n",
      "Installing collected packages: oauth2client\n",
      "Successfully installed oauth2client-4.1.3\n",
      "Note: you may need to restart the kernel to use updated packages.\n"
     ]
    }
   ],
   "source": [
    "pip install oauth2client"
   ]
  },
  {
   "cell_type": "code",
   "execution_count": 3,
   "metadata": {},
   "outputs": [
    {
     "name": "stdout",
     "output_type": "stream",
     "text": [
      "Collecting pandasNote: you may need to restart the kernel to use updated packages.\n",
      "\n",
      "  Using cached pandas-2.1.4-cp311-cp311-win_amd64.whl.metadata (18 kB)\n",
      "Collecting numpy<2,>=1.23.2 (from pandas)\n",
      "  Using cached numpy-1.26.2-cp311-cp311-win_amd64.whl.metadata (61 kB)\n",
      "Requirement already satisfied: python-dateutil>=2.8.2 in .\\.conda\\lib\\site-packages (from pandas) (2.8.2)\n",
      "Collecting pytz>=2020.1 (from pandas)\n",
      "  Using cached pytz-2023.3.post1-py2.py3-none-any.whl.metadata (22 kB)\n",
      "Collecting tzdata>=2022.1 (from pandas)\n",
      "  Using cached tzdata-2023.3-py2.py3-none-any.whl (341 kB)\n",
      "Requirement already satisfied: six>=1.5 in .\\.conda\\lib\\site-packages (from python-dateutil>=2.8.2->pandas) (1.16.0)\n",
      "Using cached pandas-2.1.4-cp311-cp311-win_amd64.whl (10.6 MB)\n",
      "Using cached numpy-1.26.2-cp311-cp311-win_amd64.whl (15.8 MB)\n",
      "Using cached pytz-2023.3.post1-py2.py3-none-any.whl (502 kB)\n",
      "Installing collected packages: pytz, tzdata, numpy, pandas\n",
      "Successfully installed numpy-1.26.2 pandas-2.1.4 pytz-2023.3.post1 tzdata-2023.3\n"
     ]
    }
   ],
   "source": [
    "pip install pandas"
   ]
  },
  {
   "cell_type": "code",
   "execution_count": 3,
   "metadata": {},
   "outputs": [],
   "source": [
    "from config.config import YOUTUBE_API_KEY\n",
    "from googleapiclient.discovery import build\n",
    "import pandas as pd\n",
    "from IPython.display import JSON"
   ]
  },
  {
   "cell_type": "code",
   "execution_count": 4,
   "metadata": {},
   "outputs": [],
   "source": [
    "import re"
   ]
  },
  {
   "cell_type": "code",
   "execution_count": 5,
   "metadata": {},
   "outputs": [],
   "source": [
    "youtube = build('youtube', 'v3', developerKey= YOUTUBE_API_KEY)"
   ]
  },
  {
   "cell_type": "code",
   "execution_count": 6,
   "metadata": {},
   "outputs": [],
   "source": [
    "# Türkiye'de en çok izlenen \"Data Science\" videoları\n",
    "search_response = youtube.search().list(\n",
    "    q='Data Science',\n",
    "    type='video',\n",
    "    part='id,snippet',\n",
    "    maxResults=10,  # max 10 video olsun\n",
    "    regionCode='TR',  # Türkiye'nin bölge kodu\n",
    "    order='viewCount'  # İzlenme sayısına göre sırala\n",
    ").execute()"
   ]
  },
  {
   "cell_type": "code",
   "execution_count": 7,
   "metadata": {},
   "outputs": [
    {
     "name": "stdout",
     "output_type": "stream",
     "text": [
      "{'kind': 'youtube#searchListResponse', 'etag': 'quXkYa6myG_MOQtLQGq2UkNacSI', 'nextPageToken': 'CAoQAA', 'regionCode': 'TR', 'pageInfo': {'totalResults': 1000000, 'resultsPerPage': 10}, 'items': [{'kind': 'youtube#searchResult', 'etag': 'OwHgfQLau6iRRaEPrRzC1gwefQ4', 'id': {'kind': 'youtube#video', 'videoId': '1Q50kYnu9Zc'}, 'snippet': {'publishedAt': '2022-05-01T20:45:00Z', 'channelId': 'UCAigp2nt4ZqzSH10J1u_Snw', 'title': 'Elon Musk Laughs at the Idea of Getting a PhD... and Explains How to Actually Be Useful!', 'description': '', 'thumbnails': {'default': {'url': 'https://i.ytimg.com/vi/1Q50kYnu9Zc/default.jpg', 'width': 120, 'height': 90}, 'medium': {'url': 'https://i.ytimg.com/vi/1Q50kYnu9Zc/mqdefault.jpg', 'width': 320, 'height': 180}, 'high': {'url': 'https://i.ytimg.com/vi/1Q50kYnu9Zc/hqdefault.jpg', 'width': 480, 'height': 360}}, 'channelTitle': 'Inspire Greatness', 'liveBroadcastContent': 'none', 'publishTime': '2022-05-01T20:45:00Z'}}, {'kind': 'youtube#searchResult', 'etag': 'QZmakjCCJthZRf4dXULL1lmtT1Q', 'id': {'kind': 'youtube#video', 'videoId': 'rLoecC__oL4'}, 'snippet': {'publishedAt': '2022-10-07T17:16:29Z', 'channelId': 'UCGc0CTgZpHa_xIlZcTahD7A', 'title': 'Fight With Data Scientist #standupcomedy #crowdwork #career #tech #reels #shorts #funny', 'description': '', 'thumbnails': {'default': {'url': 'https://i.ytimg.com/vi/rLoecC__oL4/default.jpg', 'width': 120, 'height': 90}, 'medium': {'url': 'https://i.ytimg.com/vi/rLoecC__oL4/mqdefault.jpg', 'width': 320, 'height': 180}, 'high': {'url': 'https://i.ytimg.com/vi/rLoecC__oL4/hqdefault.jpg', 'width': 480, 'height': 360}}, 'channelTitle': 'Hannah Berner', 'liveBroadcastContent': 'none', 'publishTime': '2022-10-07T17:16:29Z'}}, {'kind': 'youtube#searchResult', 'etag': 'tKknUfsEW_1GHILwMO8qI00HYgg', 'id': {'kind': 'youtube#video', 'videoId': '_V8eKsto3Ug'}, 'snippet': {'publishedAt': '2019-06-06T14:12:38Z', 'channelId': 'UC8butISFwT-Wl7EV0hUK0BQ', 'title': 'R Programming Tutorial - Learn the Basics of Statistical Computing', 'description': 'Learn the R programming language in this tutorial course. This is a hands-on overview of the statistical programming language R, ...', 'thumbnails': {'default': {'url': 'https://i.ytimg.com/vi/_V8eKsto3Ug/default.jpg', 'width': 120, 'height': 90}, 'medium': {'url': 'https://i.ytimg.com/vi/_V8eKsto3Ug/mqdefault.jpg', 'width': 320, 'height': 180}, 'high': {'url': 'https://i.ytimg.com/vi/_V8eKsto3Ug/hqdefault.jpg', 'width': 480, 'height': 360}}, 'channelTitle': 'freeCodeCamp.org', 'liveBroadcastContent': 'none', 'publishTime': '2019-06-06T14:12:38Z'}}, {'kind': 'youtube#searchResult', 'etag': 'NGUKNPC-71eNqVCOtWh8Qhl-0dE', 'id': {'kind': 'youtube#video', 'videoId': 'X3paOmcrTjQ'}, 'snippet': {'publishedAt': '2018-12-04T14:30:01Z', 'channelId': 'UCsvqVGtbbyHaMoevxPAq9Fg', 'title': 'Data Science In 5 Minutes | Data Science For Beginners | What Is Data Science? | Simplilearn', 'description': '\"   Caltech Post Graduate Program In Data Science: ...', 'thumbnails': {'default': {'url': 'https://i.ytimg.com/vi/X3paOmcrTjQ/default.jpg', 'width': 120, 'height': 90}, 'medium': {'url': 'https://i.ytimg.com/vi/X3paOmcrTjQ/mqdefault.jpg', 'width': 320, 'height': 180}, 'high': {'url': 'https://i.ytimg.com/vi/X3paOmcrTjQ/hqdefault.jpg', 'width': 480, 'height': 360}}, 'channelTitle': 'Simplilearn', 'liveBroadcastContent': 'none', 'publishTime': '2018-12-04T14:30:01Z'}}, {'kind': 'youtube#searchResult', 'etag': 'BZWMh-rwfCY4yuIqpO19TIna5U4', 'id': {'kind': 'youtube#video', 'videoId': 'tLuhqBfcixs'}, 'snippet': {'publishedAt': '2022-04-08T06:12:22Z', 'channelId': 'UCkw4JCwteGrDHIsyIIKo4tQ', 'title': 'Data Science Internship Program | Why Become a Data Scientist | Edureka', 'description': \"Edureka's Data Science Free Demo Session: ...\", 'thumbnails': {'default': {'url': 'https://i.ytimg.com/vi/tLuhqBfcixs/default.jpg', 'width': 120, 'height': 90}, 'medium': {'url': 'https://i.ytimg.com/vi/tLuhqBfcixs/mqdefault.jpg', 'width': 320, 'height': 180}, 'high': {'url': 'https://i.ytimg.com/vi/tLuhqBfcixs/hqdefault.jpg', 'width': 480, 'height': 360}}, 'channelTitle': 'edureka!', 'liveBroadcastContent': 'none', 'publishTime': '2022-04-08T06:12:22Z'}}, {'kind': 'youtube#searchResult', 'etag': 'IEZhmKN8drjhhFb0L5wzz1NgBM8', 'id': {'kind': 'youtube#video', 'videoId': 'UDQ2gJZqqdE'}, 'snippet': {'publishedAt': '2023-05-20T11:30:11Z', 'channelId': 'UCvknEk1Bjmep7Ebv6QrJGSg', 'title': 'How much does an AI ENGINEER make?', 'description': 'Teaching #learning #facts #support #goals #like #nonprofit #career #educationmatters #technology #newtechnology ...', 'thumbnails': {'default': {'url': 'https://i.ytimg.com/vi/UDQ2gJZqqdE/default.jpg', 'width': 120, 'height': 90}, 'medium': {'url': 'https://i.ytimg.com/vi/UDQ2gJZqqdE/mqdefault.jpg', 'width': 320, 'height': 180}, 'high': {'url': 'https://i.ytimg.com/vi/UDQ2gJZqqdE/hqdefault.jpg', 'width': 480, 'height': 360}}, 'channelTitle': 'Broke Brothers', 'liveBroadcastContent': 'none', 'publishTime': '2023-05-20T11:30:11Z'}}, {'kind': 'youtube#searchResult', 'etag': 'BvfTqZHQjcgSvx8j5cc5Lv-P1C8', 'id': {'kind': 'youtube#video', 'videoId': 'xC-c7E5PK0Y'}, 'snippet': {'publishedAt': '2018-06-23T01:51:50Z', 'channelId': 'UCV0qA-eDDICsRR9rPcnG7tw', 'title': 'What REALLY is Data Science? Told by a Data Scientist', 'description': \"Interested in Data Science? Start with learning SQL to query data. You'll need it no matter which part of the data science pyramid ...\", 'thumbnails': {'default': {'url': 'https://i.ytimg.com/vi/xC-c7E5PK0Y/default.jpg', 'width': 120, 'height': 90}, 'medium': {'url': 'https://i.ytimg.com/vi/xC-c7E5PK0Y/mqdefault.jpg', 'width': 320, 'height': 180}, 'high': {'url': 'https://i.ytimg.com/vi/xC-c7E5PK0Y/hqdefault.jpg', 'width': 480, 'height': 360}}, 'channelTitle': 'Joma Tech', 'liveBroadcastContent': 'none', 'publishTime': '2018-06-23T01:51:50Z'}}, {'kind': 'youtube#searchResult', 'etag': 'PvOc-33ebKYtBax3nr-KGlzs0ck', 'id': {'kind': 'youtube#video', 'videoId': 'LHBE6Q9XlzI'}, 'snippet': {'publishedAt': '2020-06-02T14:05:17Z', 'channelId': 'UC8butISFwT-Wl7EV0hUK0BQ', 'title': 'Python for Data Science - Course for Beginners (Learn Python, Pandas, NumPy, Matplotlib)', 'description': 'This Python data science course will take you from knowing nothing about Python to coding and analyzing data with Python using ...', 'thumbnails': {'default': {'url': 'https://i.ytimg.com/vi/LHBE6Q9XlzI/default.jpg', 'width': 120, 'height': 90}, 'medium': {'url': 'https://i.ytimg.com/vi/LHBE6Q9XlzI/mqdefault.jpg', 'width': 320, 'height': 180}, 'high': {'url': 'https://i.ytimg.com/vi/LHBE6Q9XlzI/hqdefault.jpg', 'width': 480, 'height': 360}}, 'channelTitle': 'freeCodeCamp.org', 'liveBroadcastContent': 'none', 'publishTime': '2020-06-02T14:05:17Z'}}, {'kind': 'youtube#searchResult', 'etag': 'vSQlSnavtt_fHWhtishcXWYAGsE', 'id': {'kind': 'youtube#video', 'videoId': '-ETQ97mXXF0'}, 'snippet': {'publishedAt': '2019-08-18T08:30:02Z', 'channelId': 'UCkw4JCwteGrDHIsyIIKo4tQ', 'title': 'Data Science Full Course - Learn Data Science in 10 Hours | Data Science For Beginners | Edureka', 'description': 'Data Science Course (Use Code \"YOUTUBE20\"): https://www.edureka.co/masters-program/data-scientist-certification This ...', 'thumbnails': {'default': {'url': 'https://i.ytimg.com/vi/-ETQ97mXXF0/default.jpg', 'width': 120, 'height': 90}, 'medium': {'url': 'https://i.ytimg.com/vi/-ETQ97mXXF0/mqdefault.jpg', 'width': 320, 'height': 180}, 'high': {'url': 'https://i.ytimg.com/vi/-ETQ97mXXF0/hqdefault.jpg', 'width': 480, 'height': 360}}, 'channelTitle': 'edureka!', 'liveBroadcastContent': 'none', 'publishTime': '2019-08-18T08:30:02Z'}}, {'kind': 'youtube#searchResult', 'etag': 'y_c4w7EnowUDNWE6qbEiQyQw0Kc', 'id': {'kind': 'youtube#video', 'videoId': 'FvGRKQipTP8'}, 'snippet': {'publishedAt': '2022-07-11T19:00:04Z', 'channelId': 'UCyXc3DjHttuFH8MBI5ccA9w', 'title': 'See Part 2 with the Data Scientist in the comments...', 'description': 'Watch Part 2 here: https://www.youtube.com/watch?v=NGvHVpFSJk8.', 'thumbnails': {'default': {'url': 'https://i.ytimg.com/vi/FvGRKQipTP8/default.jpg', 'width': 120, 'height': 90}, 'medium': {'url': 'https://i.ytimg.com/vi/FvGRKQipTP8/mqdefault.jpg', 'width': 320, 'height': 180}, 'high': {'url': 'https://i.ytimg.com/vi/FvGRKQipTP8/hqdefault.jpg', 'width': 480, 'height': 360}}, 'channelTitle': 'The Final Round', 'liveBroadcastContent': 'none', 'publishTime': '2022-07-11T19:00:04Z'}}]}\n"
     ]
    }
   ],
   "source": [
    "print(search_response)"
   ]
  },
  {
   "cell_type": "code",
   "execution_count": 8,
   "metadata": {},
   "outputs": [
    {
     "data": {
      "application/json": {
       "etag": "quXkYa6myG_MOQtLQGq2UkNacSI",
       "items": [
        {
         "etag": "OwHgfQLau6iRRaEPrRzC1gwefQ4",
         "id": {
          "kind": "youtube#video",
          "videoId": "1Q50kYnu9Zc"
         },
         "kind": "youtube#searchResult",
         "snippet": {
          "channelId": "UCAigp2nt4ZqzSH10J1u_Snw",
          "channelTitle": "Inspire Greatness",
          "description": "",
          "liveBroadcastContent": "none",
          "publishTime": "2022-05-01T20:45:00Z",
          "publishedAt": "2022-05-01T20:45:00Z",
          "thumbnails": {
           "default": {
            "height": 90,
            "url": "https://i.ytimg.com/vi/1Q50kYnu9Zc/default.jpg",
            "width": 120
           },
           "high": {
            "height": 360,
            "url": "https://i.ytimg.com/vi/1Q50kYnu9Zc/hqdefault.jpg",
            "width": 480
           },
           "medium": {
            "height": 180,
            "url": "https://i.ytimg.com/vi/1Q50kYnu9Zc/mqdefault.jpg",
            "width": 320
           }
          },
          "title": "Elon Musk Laughs at the Idea of Getting a PhD... and Explains How to Actually Be Useful!"
         }
        },
        {
         "etag": "QZmakjCCJthZRf4dXULL1lmtT1Q",
         "id": {
          "kind": "youtube#video",
          "videoId": "rLoecC__oL4"
         },
         "kind": "youtube#searchResult",
         "snippet": {
          "channelId": "UCGc0CTgZpHa_xIlZcTahD7A",
          "channelTitle": "Hannah Berner",
          "description": "",
          "liveBroadcastContent": "none",
          "publishTime": "2022-10-07T17:16:29Z",
          "publishedAt": "2022-10-07T17:16:29Z",
          "thumbnails": {
           "default": {
            "height": 90,
            "url": "https://i.ytimg.com/vi/rLoecC__oL4/default.jpg",
            "width": 120
           },
           "high": {
            "height": 360,
            "url": "https://i.ytimg.com/vi/rLoecC__oL4/hqdefault.jpg",
            "width": 480
           },
           "medium": {
            "height": 180,
            "url": "https://i.ytimg.com/vi/rLoecC__oL4/mqdefault.jpg",
            "width": 320
           }
          },
          "title": "Fight With Data Scientist #standupcomedy #crowdwork #career #tech #reels #shorts #funny"
         }
        },
        {
         "etag": "tKknUfsEW_1GHILwMO8qI00HYgg",
         "id": {
          "kind": "youtube#video",
          "videoId": "_V8eKsto3Ug"
         },
         "kind": "youtube#searchResult",
         "snippet": {
          "channelId": "UC8butISFwT-Wl7EV0hUK0BQ",
          "channelTitle": "freeCodeCamp.org",
          "description": "Learn the R programming language in this tutorial course. This is a hands-on overview of the statistical programming language R, ...",
          "liveBroadcastContent": "none",
          "publishTime": "2019-06-06T14:12:38Z",
          "publishedAt": "2019-06-06T14:12:38Z",
          "thumbnails": {
           "default": {
            "height": 90,
            "url": "https://i.ytimg.com/vi/_V8eKsto3Ug/default.jpg",
            "width": 120
           },
           "high": {
            "height": 360,
            "url": "https://i.ytimg.com/vi/_V8eKsto3Ug/hqdefault.jpg",
            "width": 480
           },
           "medium": {
            "height": 180,
            "url": "https://i.ytimg.com/vi/_V8eKsto3Ug/mqdefault.jpg",
            "width": 320
           }
          },
          "title": "R Programming Tutorial - Learn the Basics of Statistical Computing"
         }
        },
        {
         "etag": "NGUKNPC-71eNqVCOtWh8Qhl-0dE",
         "id": {
          "kind": "youtube#video",
          "videoId": "X3paOmcrTjQ"
         },
         "kind": "youtube#searchResult",
         "snippet": {
          "channelId": "UCsvqVGtbbyHaMoevxPAq9Fg",
          "channelTitle": "Simplilearn",
          "description": "\"   Caltech Post Graduate Program In Data Science: ...",
          "liveBroadcastContent": "none",
          "publishTime": "2018-12-04T14:30:01Z",
          "publishedAt": "2018-12-04T14:30:01Z",
          "thumbnails": {
           "default": {
            "height": 90,
            "url": "https://i.ytimg.com/vi/X3paOmcrTjQ/default.jpg",
            "width": 120
           },
           "high": {
            "height": 360,
            "url": "https://i.ytimg.com/vi/X3paOmcrTjQ/hqdefault.jpg",
            "width": 480
           },
           "medium": {
            "height": 180,
            "url": "https://i.ytimg.com/vi/X3paOmcrTjQ/mqdefault.jpg",
            "width": 320
           }
          },
          "title": "Data Science In 5 Minutes | Data Science For Beginners | What Is Data Science? | Simplilearn"
         }
        },
        {
         "etag": "BZWMh-rwfCY4yuIqpO19TIna5U4",
         "id": {
          "kind": "youtube#video",
          "videoId": "tLuhqBfcixs"
         },
         "kind": "youtube#searchResult",
         "snippet": {
          "channelId": "UCkw4JCwteGrDHIsyIIKo4tQ",
          "channelTitle": "edureka!",
          "description": "Edureka's Data Science Free Demo Session: ...",
          "liveBroadcastContent": "none",
          "publishTime": "2022-04-08T06:12:22Z",
          "publishedAt": "2022-04-08T06:12:22Z",
          "thumbnails": {
           "default": {
            "height": 90,
            "url": "https://i.ytimg.com/vi/tLuhqBfcixs/default.jpg",
            "width": 120
           },
           "high": {
            "height": 360,
            "url": "https://i.ytimg.com/vi/tLuhqBfcixs/hqdefault.jpg",
            "width": 480
           },
           "medium": {
            "height": 180,
            "url": "https://i.ytimg.com/vi/tLuhqBfcixs/mqdefault.jpg",
            "width": 320
           }
          },
          "title": "Data Science Internship Program | Why Become a Data Scientist | Edureka"
         }
        },
        {
         "etag": "IEZhmKN8drjhhFb0L5wzz1NgBM8",
         "id": {
          "kind": "youtube#video",
          "videoId": "UDQ2gJZqqdE"
         },
         "kind": "youtube#searchResult",
         "snippet": {
          "channelId": "UCvknEk1Bjmep7Ebv6QrJGSg",
          "channelTitle": "Broke Brothers",
          "description": "Teaching #learning #facts #support #goals #like #nonprofit #career #educationmatters #technology #newtechnology ...",
          "liveBroadcastContent": "none",
          "publishTime": "2023-05-20T11:30:11Z",
          "publishedAt": "2023-05-20T11:30:11Z",
          "thumbnails": {
           "default": {
            "height": 90,
            "url": "https://i.ytimg.com/vi/UDQ2gJZqqdE/default.jpg",
            "width": 120
           },
           "high": {
            "height": 360,
            "url": "https://i.ytimg.com/vi/UDQ2gJZqqdE/hqdefault.jpg",
            "width": 480
           },
           "medium": {
            "height": 180,
            "url": "https://i.ytimg.com/vi/UDQ2gJZqqdE/mqdefault.jpg",
            "width": 320
           }
          },
          "title": "How much does an AI ENGINEER make?"
         }
        },
        {
         "etag": "BvfTqZHQjcgSvx8j5cc5Lv-P1C8",
         "id": {
          "kind": "youtube#video",
          "videoId": "xC-c7E5PK0Y"
         },
         "kind": "youtube#searchResult",
         "snippet": {
          "channelId": "UCV0qA-eDDICsRR9rPcnG7tw",
          "channelTitle": "Joma Tech",
          "description": "Interested in Data Science? Start with learning SQL to query data. You'll need it no matter which part of the data science pyramid ...",
          "liveBroadcastContent": "none",
          "publishTime": "2018-06-23T01:51:50Z",
          "publishedAt": "2018-06-23T01:51:50Z",
          "thumbnails": {
           "default": {
            "height": 90,
            "url": "https://i.ytimg.com/vi/xC-c7E5PK0Y/default.jpg",
            "width": 120
           },
           "high": {
            "height": 360,
            "url": "https://i.ytimg.com/vi/xC-c7E5PK0Y/hqdefault.jpg",
            "width": 480
           },
           "medium": {
            "height": 180,
            "url": "https://i.ytimg.com/vi/xC-c7E5PK0Y/mqdefault.jpg",
            "width": 320
           }
          },
          "title": "What REALLY is Data Science? Told by a Data Scientist"
         }
        },
        {
         "etag": "PvOc-33ebKYtBax3nr-KGlzs0ck",
         "id": {
          "kind": "youtube#video",
          "videoId": "LHBE6Q9XlzI"
         },
         "kind": "youtube#searchResult",
         "snippet": {
          "channelId": "UC8butISFwT-Wl7EV0hUK0BQ",
          "channelTitle": "freeCodeCamp.org",
          "description": "This Python data science course will take you from knowing nothing about Python to coding and analyzing data with Python using ...",
          "liveBroadcastContent": "none",
          "publishTime": "2020-06-02T14:05:17Z",
          "publishedAt": "2020-06-02T14:05:17Z",
          "thumbnails": {
           "default": {
            "height": 90,
            "url": "https://i.ytimg.com/vi/LHBE6Q9XlzI/default.jpg",
            "width": 120
           },
           "high": {
            "height": 360,
            "url": "https://i.ytimg.com/vi/LHBE6Q9XlzI/hqdefault.jpg",
            "width": 480
           },
           "medium": {
            "height": 180,
            "url": "https://i.ytimg.com/vi/LHBE6Q9XlzI/mqdefault.jpg",
            "width": 320
           }
          },
          "title": "Python for Data Science - Course for Beginners (Learn Python, Pandas, NumPy, Matplotlib)"
         }
        },
        {
         "etag": "vSQlSnavtt_fHWhtishcXWYAGsE",
         "id": {
          "kind": "youtube#video",
          "videoId": "-ETQ97mXXF0"
         },
         "kind": "youtube#searchResult",
         "snippet": {
          "channelId": "UCkw4JCwteGrDHIsyIIKo4tQ",
          "channelTitle": "edureka!",
          "description": "Data Science Course (Use Code \"YOUTUBE20\"): https://www.edureka.co/masters-program/data-scientist-certification This ...",
          "liveBroadcastContent": "none",
          "publishTime": "2019-08-18T08:30:02Z",
          "publishedAt": "2019-08-18T08:30:02Z",
          "thumbnails": {
           "default": {
            "height": 90,
            "url": "https://i.ytimg.com/vi/-ETQ97mXXF0/default.jpg",
            "width": 120
           },
           "high": {
            "height": 360,
            "url": "https://i.ytimg.com/vi/-ETQ97mXXF0/hqdefault.jpg",
            "width": 480
           },
           "medium": {
            "height": 180,
            "url": "https://i.ytimg.com/vi/-ETQ97mXXF0/mqdefault.jpg",
            "width": 320
           }
          },
          "title": "Data Science Full Course - Learn Data Science in 10 Hours | Data Science For Beginners | Edureka"
         }
        },
        {
         "etag": "y_c4w7EnowUDNWE6qbEiQyQw0Kc",
         "id": {
          "kind": "youtube#video",
          "videoId": "FvGRKQipTP8"
         },
         "kind": "youtube#searchResult",
         "snippet": {
          "channelId": "UCyXc3DjHttuFH8MBI5ccA9w",
          "channelTitle": "The Final Round",
          "description": "Watch Part 2 here: https://www.youtube.com/watch?v=NGvHVpFSJk8.",
          "liveBroadcastContent": "none",
          "publishTime": "2022-07-11T19:00:04Z",
          "publishedAt": "2022-07-11T19:00:04Z",
          "thumbnails": {
           "default": {
            "height": 90,
            "url": "https://i.ytimg.com/vi/FvGRKQipTP8/default.jpg",
            "width": 120
           },
           "high": {
            "height": 360,
            "url": "https://i.ytimg.com/vi/FvGRKQipTP8/hqdefault.jpg",
            "width": 480
           },
           "medium": {
            "height": 180,
            "url": "https://i.ytimg.com/vi/FvGRKQipTP8/mqdefault.jpg",
            "width": 320
           }
          },
          "title": "See Part 2 with the Data Scientist in the comments..."
         }
        }
       ],
       "kind": "youtube#searchListResponse",
       "nextPageToken": "CAoQAA",
       "pageInfo": {
        "resultsPerPage": 10,
        "totalResults": 1000000
       },
       "regionCode": "TR"
      },
      "text/plain": [
       "<IPython.core.display.JSON object>"
      ]
     },
     "execution_count": 8,
     "metadata": {
      "application/json": {
       "expanded": false,
       "root": "root"
      }
     },
     "output_type": "execute_result"
    }
   ],
   "source": [
    "JSON(search_response)"
   ]
  },
  {
   "cell_type": "code",
   "execution_count": 9,
   "metadata": {},
   "outputs": [],
   "source": [
    "videos = []\n",
    "for search_result in search_response.get('items', []):\n",
    "    video = {\n",
    "        'Video Title': search_result['snippet']['title'],\n",
    "        'Video ID': search_result['id']['videoId'],\n",
    "        'Channel Title': search_result['snippet']['channelTitle'],\n",
    "        'Publish Time': search_result['snippet']['publishedAt']\n",
    "    }\n",
    "    videos.append(video)\n",
    "\n",
    "# df\n",
    "df = pd.DataFrame(videos)"
   ]
  },
  {
   "cell_type": "code",
   "execution_count": 10,
   "metadata": {},
   "outputs": [
    {
     "data": {
      "text/html": [
       "<div>\n",
       "<style scoped>\n",
       "    .dataframe tbody tr th:only-of-type {\n",
       "        vertical-align: middle;\n",
       "    }\n",
       "\n",
       "    .dataframe tbody tr th {\n",
       "        vertical-align: top;\n",
       "    }\n",
       "\n",
       "    .dataframe thead th {\n",
       "        text-align: right;\n",
       "    }\n",
       "</style>\n",
       "<table border=\"1\" class=\"dataframe\">\n",
       "  <thead>\n",
       "    <tr style=\"text-align: right;\">\n",
       "      <th></th>\n",
       "      <th>Video Title</th>\n",
       "      <th>Video ID</th>\n",
       "      <th>Channel Title</th>\n",
       "      <th>Publish Time</th>\n",
       "    </tr>\n",
       "  </thead>\n",
       "  <tbody>\n",
       "    <tr>\n",
       "      <th>0</th>\n",
       "      <td>Elon Musk Laughs at the Idea of Getting a PhD....</td>\n",
       "      <td>1Q50kYnu9Zc</td>\n",
       "      <td>Inspire Greatness</td>\n",
       "      <td>2022-05-01T20:45:00Z</td>\n",
       "    </tr>\n",
       "    <tr>\n",
       "      <th>1</th>\n",
       "      <td>Fight With Data Scientist #standupcomedy #crow...</td>\n",
       "      <td>rLoecC__oL4</td>\n",
       "      <td>Hannah Berner</td>\n",
       "      <td>2022-10-07T17:16:29Z</td>\n",
       "    </tr>\n",
       "    <tr>\n",
       "      <th>2</th>\n",
       "      <td>R Programming Tutorial - Learn the Basics of S...</td>\n",
       "      <td>_V8eKsto3Ug</td>\n",
       "      <td>freeCodeCamp.org</td>\n",
       "      <td>2019-06-06T14:12:38Z</td>\n",
       "    </tr>\n",
       "    <tr>\n",
       "      <th>3</th>\n",
       "      <td>Data Science In 5 Minutes | Data Science For B...</td>\n",
       "      <td>X3paOmcrTjQ</td>\n",
       "      <td>Simplilearn</td>\n",
       "      <td>2018-12-04T14:30:01Z</td>\n",
       "    </tr>\n",
       "    <tr>\n",
       "      <th>4</th>\n",
       "      <td>Data Science Internship Program | Why Become a...</td>\n",
       "      <td>tLuhqBfcixs</td>\n",
       "      <td>edureka!</td>\n",
       "      <td>2022-04-08T06:12:22Z</td>\n",
       "    </tr>\n",
       "    <tr>\n",
       "      <th>5</th>\n",
       "      <td>How much does an AI ENGINEER make?</td>\n",
       "      <td>UDQ2gJZqqdE</td>\n",
       "      <td>Broke Brothers</td>\n",
       "      <td>2023-05-20T11:30:11Z</td>\n",
       "    </tr>\n",
       "    <tr>\n",
       "      <th>6</th>\n",
       "      <td>What REALLY is Data Science? Told by a Data Sc...</td>\n",
       "      <td>xC-c7E5PK0Y</td>\n",
       "      <td>Joma Tech</td>\n",
       "      <td>2018-06-23T01:51:50Z</td>\n",
       "    </tr>\n",
       "    <tr>\n",
       "      <th>7</th>\n",
       "      <td>Python for Data Science - Course for Beginners...</td>\n",
       "      <td>LHBE6Q9XlzI</td>\n",
       "      <td>freeCodeCamp.org</td>\n",
       "      <td>2020-06-02T14:05:17Z</td>\n",
       "    </tr>\n",
       "    <tr>\n",
       "      <th>8</th>\n",
       "      <td>Data Science Full Course - Learn Data Science ...</td>\n",
       "      <td>-ETQ97mXXF0</td>\n",
       "      <td>edureka!</td>\n",
       "      <td>2019-08-18T08:30:02Z</td>\n",
       "    </tr>\n",
       "    <tr>\n",
       "      <th>9</th>\n",
       "      <td>See Part 2 with the Data Scientist in the comm...</td>\n",
       "      <td>FvGRKQipTP8</td>\n",
       "      <td>The Final Round</td>\n",
       "      <td>2022-07-11T19:00:04Z</td>\n",
       "    </tr>\n",
       "  </tbody>\n",
       "</table>\n",
       "</div>"
      ],
      "text/plain": [
       "                                         Video Title     Video ID  \\\n",
       "0  Elon Musk Laughs at the Idea of Getting a PhD....  1Q50kYnu9Zc   \n",
       "1  Fight With Data Scientist #standupcomedy #crow...  rLoecC__oL4   \n",
       "2  R Programming Tutorial - Learn the Basics of S...  _V8eKsto3Ug   \n",
       "3  Data Science In 5 Minutes | Data Science For B...  X3paOmcrTjQ   \n",
       "4  Data Science Internship Program | Why Become a...  tLuhqBfcixs   \n",
       "5                 How much does an AI ENGINEER make?  UDQ2gJZqqdE   \n",
       "6  What REALLY is Data Science? Told by a Data Sc...  xC-c7E5PK0Y   \n",
       "7  Python for Data Science - Course for Beginners...  LHBE6Q9XlzI   \n",
       "8  Data Science Full Course - Learn Data Science ...  -ETQ97mXXF0   \n",
       "9  See Part 2 with the Data Scientist in the comm...  FvGRKQipTP8   \n",
       "\n",
       "       Channel Title          Publish Time  \n",
       "0  Inspire Greatness  2022-05-01T20:45:00Z  \n",
       "1      Hannah Berner  2022-10-07T17:16:29Z  \n",
       "2   freeCodeCamp.org  2019-06-06T14:12:38Z  \n",
       "3        Simplilearn  2018-12-04T14:30:01Z  \n",
       "4           edureka!  2022-04-08T06:12:22Z  \n",
       "5     Broke Brothers  2023-05-20T11:30:11Z  \n",
       "6          Joma Tech  2018-06-23T01:51:50Z  \n",
       "7   freeCodeCamp.org  2020-06-02T14:05:17Z  \n",
       "8           edureka!  2019-08-18T08:30:02Z  \n",
       "9    The Final Round  2022-07-11T19:00:04Z  "
      ]
     },
     "execution_count": 10,
     "metadata": {},
     "output_type": "execute_result"
    }
   ],
   "source": [
    "df"
   ]
  },
  {
   "cell_type": "code",
   "execution_count": 11,
   "metadata": {},
   "outputs": [],
   "source": [
    "# Video verilerini içeren bir liste oluşturun\n",
    "videos = []\n",
    "for search_result in search_response.get('items', []):\n",
    "    video_id = search_result['id']['videoId']\n",
    "\n",
    "    # videos().list çağrısı ile video detaylarını alın\n",
    "    video_response = youtube.videos().list(\n",
    "        id=video_id,\n",
    "        part='snippet,contentDetails'\n",
    "    ).execute()\n",
    "\n",
    "    # Video süresini alın\n",
    "    duration = video_response['items'][0]['contentDetails']['duration']\n",
    "    \n",
    "    # Süreyi dakikaya çevirin (ISO 8601 formatından çıkarmak)\n",
    "    duration_seconds = int(re.search(r'\\d+', duration).group())\n",
    "    duration_minutes = duration_seconds / 60\n",
    "\n",
    "\n",
    "    video = {\n",
    "        'Video Title': search_result['snippet']['title'],\n",
    "        'Video ID': video_id,\n",
    "        'Channel Title': search_result['snippet']['channelTitle'],\n",
    "        'Publish Time': search_result['snippet']['publishedAt'],\n",
    "        'Duration': duration_seconds\n",
    "    }\n",
    "    videos.append(video)\n",
    "\n",
    "# Videoları bir DataFrame'e dönüştürün\n",
    "df2 = pd.DataFrame(videos)"
   ]
  },
  {
   "cell_type": "code",
   "execution_count": 12,
   "metadata": {},
   "outputs": [
    {
     "data": {
      "text/html": [
       "<div>\n",
       "<style scoped>\n",
       "    .dataframe tbody tr th:only-of-type {\n",
       "        vertical-align: middle;\n",
       "    }\n",
       "\n",
       "    .dataframe tbody tr th {\n",
       "        vertical-align: top;\n",
       "    }\n",
       "\n",
       "    .dataframe thead th {\n",
       "        text-align: right;\n",
       "    }\n",
       "</style>\n",
       "<table border=\"1\" class=\"dataframe\">\n",
       "  <thead>\n",
       "    <tr style=\"text-align: right;\">\n",
       "      <th></th>\n",
       "      <th>Video Title</th>\n",
       "      <th>Video ID</th>\n",
       "      <th>Channel Title</th>\n",
       "      <th>Publish Time</th>\n",
       "      <th>Duration</th>\n",
       "    </tr>\n",
       "  </thead>\n",
       "  <tbody>\n",
       "    <tr>\n",
       "      <th>0</th>\n",
       "      <td>Elon Musk Laughs at the Idea of Getting a PhD....</td>\n",
       "      <td>1Q50kYnu9Zc</td>\n",
       "      <td>Inspire Greatness</td>\n",
       "      <td>2022-05-01T20:45:00Z</td>\n",
       "      <td>39</td>\n",
       "    </tr>\n",
       "    <tr>\n",
       "      <th>1</th>\n",
       "      <td>Fight With Data Scientist #standupcomedy #crow...</td>\n",
       "      <td>rLoecC__oL4</td>\n",
       "      <td>Hannah Berner</td>\n",
       "      <td>2022-10-07T17:16:29Z</td>\n",
       "      <td>56</td>\n",
       "    </tr>\n",
       "    <tr>\n",
       "      <th>2</th>\n",
       "      <td>R Programming Tutorial - Learn the Basics of S...</td>\n",
       "      <td>_V8eKsto3Ug</td>\n",
       "      <td>freeCodeCamp.org</td>\n",
       "      <td>2019-06-06T14:12:38Z</td>\n",
       "      <td>2</td>\n",
       "    </tr>\n",
       "    <tr>\n",
       "      <th>3</th>\n",
       "      <td>Data Science In 5 Minutes | Data Science For B...</td>\n",
       "      <td>X3paOmcrTjQ</td>\n",
       "      <td>Simplilearn</td>\n",
       "      <td>2018-12-04T14:30:01Z</td>\n",
       "      <td>4</td>\n",
       "    </tr>\n",
       "    <tr>\n",
       "      <th>4</th>\n",
       "      <td>Data Science Internship Program | Why Become a...</td>\n",
       "      <td>tLuhqBfcixs</td>\n",
       "      <td>edureka!</td>\n",
       "      <td>2022-04-08T06:12:22Z</td>\n",
       "      <td>1</td>\n",
       "    </tr>\n",
       "    <tr>\n",
       "      <th>5</th>\n",
       "      <td>How much does an AI ENGINEER make?</td>\n",
       "      <td>UDQ2gJZqqdE</td>\n",
       "      <td>Broke Brothers</td>\n",
       "      <td>2023-05-20T11:30:11Z</td>\n",
       "      <td>36</td>\n",
       "    </tr>\n",
       "    <tr>\n",
       "      <th>6</th>\n",
       "      <td>What REALLY is Data Science? Told by a Data Sc...</td>\n",
       "      <td>xC-c7E5PK0Y</td>\n",
       "      <td>Joma Tech</td>\n",
       "      <td>2018-06-23T01:51:50Z</td>\n",
       "      <td>11</td>\n",
       "    </tr>\n",
       "    <tr>\n",
       "      <th>7</th>\n",
       "      <td>Python for Data Science - Course for Beginners...</td>\n",
       "      <td>LHBE6Q9XlzI</td>\n",
       "      <td>freeCodeCamp.org</td>\n",
       "      <td>2020-06-02T14:05:17Z</td>\n",
       "      <td>12</td>\n",
       "    </tr>\n",
       "    <tr>\n",
       "      <th>8</th>\n",
       "      <td>Data Science Full Course - Learn Data Science ...</td>\n",
       "      <td>-ETQ97mXXF0</td>\n",
       "      <td>edureka!</td>\n",
       "      <td>2019-08-18T08:30:02Z</td>\n",
       "      <td>10</td>\n",
       "    </tr>\n",
       "    <tr>\n",
       "      <th>9</th>\n",
       "      <td>See Part 2 with the Data Scientist in the comm...</td>\n",
       "      <td>FvGRKQipTP8</td>\n",
       "      <td>The Final Round</td>\n",
       "      <td>2022-07-11T19:00:04Z</td>\n",
       "      <td>37</td>\n",
       "    </tr>\n",
       "  </tbody>\n",
       "</table>\n",
       "</div>"
      ],
      "text/plain": [
       "                                         Video Title     Video ID  \\\n",
       "0  Elon Musk Laughs at the Idea of Getting a PhD....  1Q50kYnu9Zc   \n",
       "1  Fight With Data Scientist #standupcomedy #crow...  rLoecC__oL4   \n",
       "2  R Programming Tutorial - Learn the Basics of S...  _V8eKsto3Ug   \n",
       "3  Data Science In 5 Minutes | Data Science For B...  X3paOmcrTjQ   \n",
       "4  Data Science Internship Program | Why Become a...  tLuhqBfcixs   \n",
       "5                 How much does an AI ENGINEER make?  UDQ2gJZqqdE   \n",
       "6  What REALLY is Data Science? Told by a Data Sc...  xC-c7E5PK0Y   \n",
       "7  Python for Data Science - Course for Beginners...  LHBE6Q9XlzI   \n",
       "8  Data Science Full Course - Learn Data Science ...  -ETQ97mXXF0   \n",
       "9  See Part 2 with the Data Scientist in the comm...  FvGRKQipTP8   \n",
       "\n",
       "       Channel Title          Publish Time  Duration  \n",
       "0  Inspire Greatness  2022-05-01T20:45:00Z        39  \n",
       "1      Hannah Berner  2022-10-07T17:16:29Z        56  \n",
       "2   freeCodeCamp.org  2019-06-06T14:12:38Z         2  \n",
       "3        Simplilearn  2018-12-04T14:30:01Z         4  \n",
       "4           edureka!  2022-04-08T06:12:22Z         1  \n",
       "5     Broke Brothers  2023-05-20T11:30:11Z        36  \n",
       "6          Joma Tech  2018-06-23T01:51:50Z        11  \n",
       "7   freeCodeCamp.org  2020-06-02T14:05:17Z        12  \n",
       "8           edureka!  2019-08-18T08:30:02Z        10  \n",
       "9    The Final Round  2022-07-11T19:00:04Z        37  "
      ]
     },
     "execution_count": 12,
     "metadata": {},
     "output_type": "execute_result"
    }
   ],
   "source": [
    "df2"
   ]
  },
  {
   "cell_type": "code",
   "execution_count": 16,
   "metadata": {},
   "outputs": [],
   "source": [
    "videos = []\n",
    "for search_result in search_response.get('items', []):\n",
    "    video_id = search_result['id']['videoId']\n",
    "\n",
    "    # videos().list çağrısı ile video detaylarını alın\n",
    "    video_response = youtube.videos().list(\n",
    "        id=video_id,\n",
    "        part='snippet,contentDetails'\n",
    "    ).execute()\n",
    "\n",
    "    # Video süresini alın\n",
    "    duration = video_response['items'][0]['contentDetails']['duration']\n",
    "\n",
    "    # Süreyi saat, dakika ve saniye olarak ayırın\n",
    "    match = re.search(r'PT(\\d+H)?(\\d+M)?(\\d+S)?', duration)\n",
    "    hours = int(match.group(1)[:-1]) if match.group(1) else 0\n",
    "    minutes = int(match.group(2)[:-1]) if match.group(2) else 0\n",
    "    seconds = int(match.group(3)[:-1]) if match.group(3) else 0\n",
    "\n",
    "    video = {\n",
    "        'Video Title': search_result['snippet']['title'],\n",
    "        'Video ID': video_id,\n",
    "        'Channel Title': search_result['snippet']['channelTitle'],\n",
    "        'Publish Time': search_result['snippet']['publishedAt'],\n",
    "        'Duration (Hours)': hours,\n",
    "        'Duration (Minutes)': minutes,\n",
    "        'Duration (Seconds)': seconds\n",
    "    }\n",
    "    videos.append(video)\n",
    "# Videoları bir DataFrame'e dönüştürün\n",
    "df3 = pd.DataFrame(videos)"
   ]
  },
  {
   "cell_type": "code",
   "execution_count": 17,
   "metadata": {},
   "outputs": [
    {
     "data": {
      "text/html": [
       "<div>\n",
       "<style scoped>\n",
       "    .dataframe tbody tr th:only-of-type {\n",
       "        vertical-align: middle;\n",
       "    }\n",
       "\n",
       "    .dataframe tbody tr th {\n",
       "        vertical-align: top;\n",
       "    }\n",
       "\n",
       "    .dataframe thead th {\n",
       "        text-align: right;\n",
       "    }\n",
       "</style>\n",
       "<table border=\"1\" class=\"dataframe\">\n",
       "  <thead>\n",
       "    <tr style=\"text-align: right;\">\n",
       "      <th></th>\n",
       "      <th>Video Title</th>\n",
       "      <th>Video ID</th>\n",
       "      <th>Channel Title</th>\n",
       "      <th>Publish Time</th>\n",
       "      <th>Duration (Hours)</th>\n",
       "      <th>Duration (Minutes)</th>\n",
       "      <th>Duration (Seconds)</th>\n",
       "    </tr>\n",
       "  </thead>\n",
       "  <tbody>\n",
       "    <tr>\n",
       "      <th>0</th>\n",
       "      <td>Elon Musk Laughs at the Idea of Getting a PhD....</td>\n",
       "      <td>1Q50kYnu9Zc</td>\n",
       "      <td>Inspire Greatness</td>\n",
       "      <td>2022-05-01T20:45:00Z</td>\n",
       "      <td>0</td>\n",
       "      <td>0</td>\n",
       "      <td>39</td>\n",
       "    </tr>\n",
       "    <tr>\n",
       "      <th>1</th>\n",
       "      <td>Fight With Data Scientist #standupcomedy #crow...</td>\n",
       "      <td>rLoecC__oL4</td>\n",
       "      <td>Hannah Berner</td>\n",
       "      <td>2022-10-07T17:16:29Z</td>\n",
       "      <td>0</td>\n",
       "      <td>0</td>\n",
       "      <td>56</td>\n",
       "    </tr>\n",
       "    <tr>\n",
       "      <th>2</th>\n",
       "      <td>R Programming Tutorial - Learn the Basics of S...</td>\n",
       "      <td>_V8eKsto3Ug</td>\n",
       "      <td>freeCodeCamp.org</td>\n",
       "      <td>2019-06-06T14:12:38Z</td>\n",
       "      <td>2</td>\n",
       "      <td>10</td>\n",
       "      <td>39</td>\n",
       "    </tr>\n",
       "    <tr>\n",
       "      <th>3</th>\n",
       "      <td>Data Science In 5 Minutes | Data Science For B...</td>\n",
       "      <td>X3paOmcrTjQ</td>\n",
       "      <td>Simplilearn</td>\n",
       "      <td>2018-12-04T14:30:01Z</td>\n",
       "      <td>0</td>\n",
       "      <td>4</td>\n",
       "      <td>38</td>\n",
       "    </tr>\n",
       "    <tr>\n",
       "      <th>4</th>\n",
       "      <td>Data Science Internship Program | Why Become a...</td>\n",
       "      <td>tLuhqBfcixs</td>\n",
       "      <td>edureka!</td>\n",
       "      <td>2022-04-08T06:12:22Z</td>\n",
       "      <td>0</td>\n",
       "      <td>1</td>\n",
       "      <td>27</td>\n",
       "    </tr>\n",
       "    <tr>\n",
       "      <th>5</th>\n",
       "      <td>How much does an AI ENGINEER make?</td>\n",
       "      <td>UDQ2gJZqqdE</td>\n",
       "      <td>Broke Brothers</td>\n",
       "      <td>2023-05-20T11:30:11Z</td>\n",
       "      <td>0</td>\n",
       "      <td>0</td>\n",
       "      <td>36</td>\n",
       "    </tr>\n",
       "    <tr>\n",
       "      <th>6</th>\n",
       "      <td>What REALLY is Data Science? Told by a Data Sc...</td>\n",
       "      <td>xC-c7E5PK0Y</td>\n",
       "      <td>Joma Tech</td>\n",
       "      <td>2018-06-23T01:51:50Z</td>\n",
       "      <td>0</td>\n",
       "      <td>11</td>\n",
       "      <td>9</td>\n",
       "    </tr>\n",
       "    <tr>\n",
       "      <th>7</th>\n",
       "      <td>Python for Data Science - Course for Beginners...</td>\n",
       "      <td>LHBE6Q9XlzI</td>\n",
       "      <td>freeCodeCamp.org</td>\n",
       "      <td>2020-06-02T14:05:17Z</td>\n",
       "      <td>12</td>\n",
       "      <td>19</td>\n",
       "      <td>52</td>\n",
       "    </tr>\n",
       "    <tr>\n",
       "      <th>8</th>\n",
       "      <td>Data Science Full Course - Learn Data Science ...</td>\n",
       "      <td>-ETQ97mXXF0</td>\n",
       "      <td>edureka!</td>\n",
       "      <td>2019-08-18T08:30:02Z</td>\n",
       "      <td>10</td>\n",
       "      <td>23</td>\n",
       "      <td>57</td>\n",
       "    </tr>\n",
       "    <tr>\n",
       "      <th>9</th>\n",
       "      <td>See Part 2 with the Data Scientist in the comm...</td>\n",
       "      <td>FvGRKQipTP8</td>\n",
       "      <td>The Final Round</td>\n",
       "      <td>2022-07-11T19:00:04Z</td>\n",
       "      <td>0</td>\n",
       "      <td>0</td>\n",
       "      <td>37</td>\n",
       "    </tr>\n",
       "  </tbody>\n",
       "</table>\n",
       "</div>"
      ],
      "text/plain": [
       "                                         Video Title     Video ID  \\\n",
       "0  Elon Musk Laughs at the Idea of Getting a PhD....  1Q50kYnu9Zc   \n",
       "1  Fight With Data Scientist #standupcomedy #crow...  rLoecC__oL4   \n",
       "2  R Programming Tutorial - Learn the Basics of S...  _V8eKsto3Ug   \n",
       "3  Data Science In 5 Minutes | Data Science For B...  X3paOmcrTjQ   \n",
       "4  Data Science Internship Program | Why Become a...  tLuhqBfcixs   \n",
       "5                 How much does an AI ENGINEER make?  UDQ2gJZqqdE   \n",
       "6  What REALLY is Data Science? Told by a Data Sc...  xC-c7E5PK0Y   \n",
       "7  Python for Data Science - Course for Beginners...  LHBE6Q9XlzI   \n",
       "8  Data Science Full Course - Learn Data Science ...  -ETQ97mXXF0   \n",
       "9  See Part 2 with the Data Scientist in the comm...  FvGRKQipTP8   \n",
       "\n",
       "       Channel Title          Publish Time  Duration (Hours)  \\\n",
       "0  Inspire Greatness  2022-05-01T20:45:00Z                 0   \n",
       "1      Hannah Berner  2022-10-07T17:16:29Z                 0   \n",
       "2   freeCodeCamp.org  2019-06-06T14:12:38Z                 2   \n",
       "3        Simplilearn  2018-12-04T14:30:01Z                 0   \n",
       "4           edureka!  2022-04-08T06:12:22Z                 0   \n",
       "5     Broke Brothers  2023-05-20T11:30:11Z                 0   \n",
       "6          Joma Tech  2018-06-23T01:51:50Z                 0   \n",
       "7   freeCodeCamp.org  2020-06-02T14:05:17Z                12   \n",
       "8           edureka!  2019-08-18T08:30:02Z                10   \n",
       "9    The Final Round  2022-07-11T19:00:04Z                 0   \n",
       "\n",
       "   Duration (Minutes)  Duration (Seconds)  \n",
       "0                   0                  39  \n",
       "1                   0                  56  \n",
       "2                  10                  39  \n",
       "3                   4                  38  \n",
       "4                   1                  27  \n",
       "5                   0                  36  \n",
       "6                  11                   9  \n",
       "7                  19                  52  \n",
       "8                  23                  57  \n",
       "9                   0                  37  "
      ]
     },
     "execution_count": 17,
     "metadata": {},
     "output_type": "execute_result"
    }
   ],
   "source": [
    "df3"
   ]
  },
  {
   "cell_type": "code",
   "execution_count": null,
   "metadata": {},
   "outputs": [],
   "source": []
  }
 ],
 "metadata": {
  "kernelspec": {
   "display_name": "Python 3",
   "language": "python",
   "name": "python3"
  },
  "language_info": {
   "codemirror_mode": {
    "name": "ipython",
    "version": 3
   },
   "file_extension": ".py",
   "mimetype": "text/x-python",
   "name": "python",
   "nbconvert_exporter": "python",
   "pygments_lexer": "ipython3",
   "version": "3.11.5"
  }
 },
 "nbformat": 4,
 "nbformat_minor": 2
}
